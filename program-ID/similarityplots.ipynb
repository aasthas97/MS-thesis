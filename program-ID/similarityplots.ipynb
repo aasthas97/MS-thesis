{
 "cells": [
  {
   "cell_type": "code",
   "execution_count": 1,
   "metadata": {},
   "outputs": [],
   "source": [
    "import pandas as pd\n",
    "import matplotlib.pyplot as plt\n",
    "import seaborn as sns\n",
    "import pylab\n",
    "import matplotlib\n",
    "matplotlib.use('Agg')"
   ]
  },
  {
   "cell_type": "markdown",
   "metadata": {},
   "source": [
    "### Compile similarity data from two files into one"
   ]
  },
  {
   "cell_type": "code",
   "execution_count": 3,
   "metadata": {},
   "outputs": [],
   "source": [
    "df1 = pd.read_csv('C:\\\\Users\\\\aasth\\\\Documents\\\\Thesis_new\\\\Data\\\\turisimilarity2\\\\skelsimilarity.csv')\n",
    "df2 = pd.read_csv('C:\\\\Users\\\\aasth\\\\Documents\\\\Thesis_new\\\\Data\\\\turisimilarity2\\\\all_imdists.csv')"
   ]
  },
  {
   "cell_type": "code",
   "execution_count": 4,
   "metadata": {},
   "outputs": [],
   "source": [
    "for num in range(0, 500):\n",
    "    newdf1 = df1.loc[df1['query_label'] == num, ['query_label', 'reference_label', 'distance', 'rank']]\n",
    "    newdf2 = df2.loc[df1['query_label'] == num, ['reference_label', 'distance', 'rank']]\n",
    "    newdf1 = newdf1.sort_values(by='reference_label', ascending=True)\n",
    "    newdf2 = newdf2.sort_values(by='reference_label', ascending=True)\n",
    "    newdf1['drawingdistance'] = newdf2['distance'].values\n",
    "    newdf1['drawingrank'] = newdf2['rank'].values\n",
    "    newdf1.to_csv('C:\\\\Users\\\\aasth\\\\Documents\\\\Thesis_new\\\\Data\\\\turisimilarity2\\\\im_vs_skel.csv', mode='a', header=False)"
   ]
  },
  {
   "cell_type": "markdown",
   "metadata": {},
   "source": [
    "### Read compiled file and plot data"
   ]
  },
  {
   "cell_type": "code",
   "execution_count": 4,
   "metadata": {},
   "outputs": [
    {
     "data": {
      "text/html": [
       "<div>\n",
       "<style scoped>\n",
       "    .dataframe tbody tr th:only-of-type {\n",
       "        vertical-align: middle;\n",
       "    }\n",
       "\n",
       "    .dataframe tbody tr th {\n",
       "        vertical-align: top;\n",
       "    }\n",
       "\n",
       "    .dataframe thead th {\n",
       "        text-align: right;\n",
       "    }\n",
       "</style>\n",
       "<table border=\"1\" class=\"dataframe\">\n",
       "  <thead>\n",
       "    <tr style=\"text-align: right;\">\n",
       "      <th></th>\n",
       "      <th>query_label</th>\n",
       "      <th>reference_label</th>\n",
       "      <th>imagedistance</th>\n",
       "      <th>imagerank</th>\n",
       "      <th>drawingdistance</th>\n",
       "      <th>drawingrank</th>\n",
       "    </tr>\n",
       "  </thead>\n",
       "  <tbody>\n",
       "    <tr>\n",
       "      <th>0</th>\n",
       "      <td>0</td>\n",
       "      <td>0</td>\n",
       "      <td>6.743500e-07</td>\n",
       "      <td>1</td>\n",
       "      <td>0.000001</td>\n",
       "      <td>1</td>\n",
       "    </tr>\n",
       "    <tr>\n",
       "      <th>82</th>\n",
       "      <td>0</td>\n",
       "      <td>1</td>\n",
       "      <td>1.429610e+01</td>\n",
       "      <td>83</td>\n",
       "      <td>18.618000</td>\n",
       "      <td>25</td>\n",
       "    </tr>\n",
       "    <tr>\n",
       "      <th>93</th>\n",
       "      <td>0</td>\n",
       "      <td>2</td>\n",
       "      <td>1.475510e+01</td>\n",
       "      <td>94</td>\n",
       "      <td>1.447170</td>\n",
       "      <td>3</td>\n",
       "    </tr>\n",
       "    <tr>\n",
       "      <th>56</th>\n",
       "      <td>0</td>\n",
       "      <td>3</td>\n",
       "      <td>1.353400e+01</td>\n",
       "      <td>57</td>\n",
       "      <td>1.446940</td>\n",
       "      <td>2</td>\n",
       "    </tr>\n",
       "    <tr>\n",
       "      <th>85</th>\n",
       "      <td>0</td>\n",
       "      <td>4</td>\n",
       "      <td>1.452030e+01</td>\n",
       "      <td>86</td>\n",
       "      <td>6.885240</td>\n",
       "      <td>4</td>\n",
       "    </tr>\n",
       "  </tbody>\n",
       "</table>\n",
       "</div>"
      ],
      "text/plain": [
       "    query_label  reference_label  imagedistance  imagerank  drawingdistance  \\\n",
       "0             0                0   6.743500e-07          1         0.000001   \n",
       "82            0                1   1.429610e+01         83        18.618000   \n",
       "93            0                2   1.475510e+01         94         1.447170   \n",
       "56            0                3   1.353400e+01         57         1.446940   \n",
       "85            0                4   1.452030e+01         86         6.885240   \n",
       "\n",
       "    drawingrank  \n",
       "0             1  \n",
       "82           25  \n",
       "93            3  \n",
       "56            2  \n",
       "85            4  "
      ]
     },
     "execution_count": 4,
     "metadata": {},
     "output_type": "execute_result"
    }
   ],
   "source": [
    "# for image vs drawing\n",
    "# sim_df = pd.read_csv('C:\\\\Users\\\\aasth\\\\Documents\\\\Thesis_new\\\\Data\\\\turisimilarity2\\\\im_vs_drawing.csv', sep=',', \n",
    "#                   names=['query_label', 'reference_label', 'imagedistance', 'imagerank', 'drawingdistance', 'drawingrank'])\n",
    "# sim_df.head()\n",
    "\n",
    "# for image vs skeleton\n",
    "sim_df = pd.read_csv('C:\\\\Users\\\\aasth\\\\Documents\\\\Thesis_new\\\\Data\\\\turisimilarity2\\\\im_vs_skel.csv', sep=',', \n",
    "                  names=['query_label', 'reference_label', 'imagedistance', 'imagerank', 'drawingdistance', 'drawingrank'])\n",
    "sim_df.head()"
   ]
  },
  {
   "cell_type": "markdown",
   "metadata": {},
   "source": [
    "### Plot 4 types of distances"
   ]
  },
  {
   "cell_type": "code",
   "execution_count": 43,
   "metadata": {
    "scrolled": false
   },
   "outputs": [
    {
     "data": {
      "text/plain": [
       "Text(0, 0.5, 'Object number')"
      ]
     },
     "execution_count": 43,
     "metadata": {},
     "output_type": "execute_result"
    },
    {
     "data": {
      "image/png": "[encoded data removed]",
      "text/plain": [
       "<Figure size 432x288 with 1 Axes>"
      ]
     },
     "metadata": {
      "needs_background": "light"
     },
     "output_type": "display_data"
    }
   ],
   "source": [
    "objectzero = sim_df.loc[(sim_df['query_label'] == 0) & (sim_df['reference_label'] < 11)]\n",
    "objectone = sim_df.loc[(sim_df['query_label'] == 0) & (sim_df['reference_label'] > 10) & (sim_df['reference_label'] < 21)] # dist between object 0 and objects of other categories\n",
    "\n",
    "imdists_same = objectzero['imagedistance']\n",
    "sketchdists_same = objectzero['drawingdistance']\n",
    "imdists_diff = objectone['imagedistance']\n",
    "sketchdists_diff = objectone['drawingdistance']\n",
    "\n",
    "group_same = objectzero['reference_label']\n",
    "group_diff = objectone['reference_label']\n",
    "\n",
    "plt.hlines(y=group_same, xmin=imdists_same, xmax=sketchdists_same, color='grey', alpha=0.4)\n",
    "plt.scatter(imdists_same, group_same, color='skyblue', alpha=0.8, label='Image distance')\n",
    "plt.scatter(sketchdists_same, group_same, color='darkslategrey', alpha=0.6 , label='Drawing distance')\n",
    "\n",
    "plt.hlines(y=group_diff, xmin=imdists_diff, xmax=sketchdists_diff, color='grey', alpha=0.4)\n",
    "plt.scatter(imdists_diff, group_diff, color='pink', alpha=1, label='Image distance (diff category)')\n",
    "plt.scatter(sketchdists_diff, group_diff, color='darkorange', alpha=0.6 , label='Drawing distance (diff category)')\n",
    "# pylab.legend(loc='best')\n",
    "plt.legend(loc=\"upper left\", bbox_to_anchor=(1,1))\n",
    "plt.xlabel('Distance')\n",
    "plt.ylabel('Object number')"
   ]
  },
  {
   "cell_type": "markdown",
   "metadata": {},
   "source": [
    "## Normalize distances"
   ]
  },
  {
   "cell_type": "code",
   "execution_count": 5,
   "metadata": {},
   "outputs": [],
   "source": [
    "norm_df = pd.DataFrame()\n",
    "for num in range(0, 500):\n",
    "    object_chosen = sim_df[sim_df['query_label'] == num]\n",
    "    imagedist = object_chosen['imagedistance']\n",
    "    drawingdist = object_chosen['drawingdistance']\n",
    "    image_min = min(imagedist)\n",
    "    image_max = max(imagedist)\n",
    "    sketch_min = min(drawingdist)\n",
    "    sketch_max = max(drawingdist)\n",
    "    normdist_im = [(dist-image_min)/image_max for dist in imagedist]\n",
    "    normdist_sketch = [(dist-sketch_min)/sketch_max for dist in drawingdist]\n",
    "    data = {'query_label': object_chosen['query_label'], 'reference_label': object_chosen['reference_label'],\n",
    "       'normdist_im': normdist_im, 'normdist_sketch': normdist_sketch}\n",
    "    norm_df = norm_df.append(pd.DataFrame(data))"
   ]
  },
  {
   "cell_type": "code",
   "execution_count": 6,
   "metadata": {},
   "outputs": [
    {
     "data": {
      "text/html": [
       "<div>\n",
       "<style scoped>\n",
       "    .dataframe tbody tr th:only-of-type {\n",
       "        vertical-align: middle;\n",
       "    }\n",
       "\n",
       "    .dataframe tbody tr th {\n",
       "        vertical-align: top;\n",
       "    }\n",
       "\n",
       "    .dataframe thead th {\n",
       "        text-align: right;\n",
       "    }\n",
       "</style>\n",
       "<table border=\"1\" class=\"dataframe\">\n",
       "  <thead>\n",
       "    <tr style=\"text-align: right;\">\n",
       "      <th></th>\n",
       "      <th>query_label</th>\n",
       "      <th>reference_label</th>\n",
       "      <th>normdist_im</th>\n",
       "      <th>normdist_sketch</th>\n",
       "    </tr>\n",
       "  </thead>\n",
       "  <tbody>\n",
       "    <tr>\n",
       "      <th>0</th>\n",
       "      <td>0</td>\n",
       "      <td>0</td>\n",
       "      <td>0.000000</td>\n",
       "      <td>0.000000</td>\n",
       "    </tr>\n",
       "    <tr>\n",
       "      <th>82</th>\n",
       "      <td>0</td>\n",
       "      <td>1</td>\n",
       "      <td>0.603066</td>\n",
       "      <td>0.608987</td>\n",
       "    </tr>\n",
       "    <tr>\n",
       "      <th>93</th>\n",
       "      <td>0</td>\n",
       "      <td>2</td>\n",
       "      <td>0.622428</td>\n",
       "      <td>0.047336</td>\n",
       "    </tr>\n",
       "    <tr>\n",
       "      <th>56</th>\n",
       "      <td>0</td>\n",
       "      <td>3</td>\n",
       "      <td>0.570918</td>\n",
       "      <td>0.047329</td>\n",
       "    </tr>\n",
       "    <tr>\n",
       "      <th>85</th>\n",
       "      <td>0</td>\n",
       "      <td>4</td>\n",
       "      <td>0.612524</td>\n",
       "      <td>0.225213</td>\n",
       "    </tr>\n",
       "    <tr>\n",
       "      <th>...</th>\n",
       "      <td>...</td>\n",
       "      <td>...</td>\n",
       "      <td>...</td>\n",
       "      <td>...</td>\n",
       "    </tr>\n",
       "    <tr>\n",
       "      <th>249686</th>\n",
       "      <td>499</td>\n",
       "      <td>495</td>\n",
       "      <td>0.621287</td>\n",
       "      <td>0.657823</td>\n",
       "    </tr>\n",
       "    <tr>\n",
       "      <th>249658</th>\n",
       "      <td>499</td>\n",
       "      <td>496</td>\n",
       "      <td>0.607477</td>\n",
       "      <td>0.394529</td>\n",
       "    </tr>\n",
       "    <tr>\n",
       "      <th>249556</th>\n",
       "      <td>499</td>\n",
       "      <td>497</td>\n",
       "      <td>0.539806</td>\n",
       "      <td>0.506143</td>\n",
       "    </tr>\n",
       "    <tr>\n",
       "      <th>249544</th>\n",
       "      <td>499</td>\n",
       "      <td>498</td>\n",
       "      <td>0.526265</td>\n",
       "      <td>0.626777</td>\n",
       "    </tr>\n",
       "    <tr>\n",
       "      <th>249500</th>\n",
       "      <td>499</td>\n",
       "      <td>499</td>\n",
       "      <td>0.000000</td>\n",
       "      <td>0.000000</td>\n",
       "    </tr>\n",
       "  </tbody>\n",
       "</table>\n",
       "<p>250000 rows × 4 columns</p>\n",
       "</div>"
      ],
      "text/plain": [
       "        query_label  reference_label  normdist_im  normdist_sketch\n",
       "0                 0                0     0.000000         0.000000\n",
       "82                0                1     0.603066         0.608987\n",
       "93                0                2     0.622428         0.047336\n",
       "56                0                3     0.570918         0.047329\n",
       "85                0                4     0.612524         0.225213\n",
       "...             ...              ...          ...              ...\n",
       "249686          499              495     0.621287         0.657823\n",
       "249658          499              496     0.607477         0.394529\n",
       "249556          499              497     0.539806         0.506143\n",
       "249544          499              498     0.526265         0.626777\n",
       "249500          499              499     0.000000         0.000000\n",
       "\n",
       "[250000 rows x 4 columns]"
      ]
     },
     "execution_count": 6,
     "metadata": {},
     "output_type": "execute_result"
    }
   ],
   "source": [
    "norm_df"
   ]
  },
  {
   "cell_type": "markdown",
   "metadata": {},
   "source": [
    "Mean image distance = 0.75\n",
    "\\\n",
    "Mean sketch distance = 0.645"
   ]
  },
  {
   "cell_type": "markdown",
   "metadata": {},
   "source": [
    "#### Plot inter and intra category plots for all categories"
   ]
  },
  {
   "cell_type": "code",
   "execution_count": 7,
   "metadata": {
    "scrolled": true
   },
   "outputs": [],
   "source": [
    "import random\n",
    "\n",
    "def newy_mid(n):\n",
    "    list_1 = random.sample(range(0, n), 5) # sample 5 random numbers from below n\n",
    "    list_2 = random.sample(range(n+10, 500), 5) # 5 random numbers from above n\n",
    "    return list_1 + list_2\n",
    "\n",
    "# diff_im = [] # (Inter-category im dist - intra-category im dist) for all categories\n",
    "# diff_sk = [] # (Inter-category sketch dist - intra-category sk dist) for all categories\n",
    "diff_3 = [] # Intra-category im dist - intra-category sk dist) for all categories\n",
    "diff_4 = [] # Inter-category im dist - inter-category sk dist) for all categories"
   ]
  },
  {
   "cell_type": "code",
   "execution_count": 12,
   "metadata": {
    "scrolled": true
   },
   "outputs": [
    {
     "name": "stderr",
     "output_type": "stream",
     "text": [
      "C:\\Users\\aasth\\Anaconda3\\lib\\site-packages\\ipykernel_launcher.py:25: RuntimeWarning: More than 20 figures have been opened. Figures created through the pyplot interface (`matplotlib.pyplot.figure`) are retained until explicitly closed and may consume too much memory. (To control this warning, see the rcParam `figure.max_open_warning`).\n"
     ]
    }
   ],
   "source": [
    "for n in range(0, 500, 10):\n",
    "    plt.clf()\n",
    "    object_number = n + random.randint(0,9)\n",
    "    y = [n + foo for foo in range(0, 10)] # ref labels for same-category object\n",
    "\n",
    "    if n >= 10 and n < 490:\n",
    "        new_y = newy_mid(n)\n",
    "    elif n < 10: # sample all numbers greater than n\n",
    "        new_y = random.sample(range(10, 350), 10)\n",
    "    elif n >= 490: # all numbers less than n\n",
    "        new_y = random.sample(range(0, 340), 10)\n",
    "    \n",
    "    value1 = norm_df[norm_df['reference_label'].isin(y)].loc[norm_df['query_label'] == object_number, 'normdist_im'] # intra-category image distance\n",
    "    value2 = norm_df[norm_df['reference_label'].isin(y)].loc[norm_df['query_label'] == object_number, 'normdist_sketch'] #intra-category sketch distance\n",
    "    value3 = norm_df[norm_df['reference_label'].isin(new_y)].loc[norm_df['query_label'] == object_number, 'normdist_im'] #inter-category image distance\n",
    "    value4 = norm_df[norm_df['reference_label'].isin(new_y)].loc[norm_df['query_label'] == object_number, 'normdist_sketch'] #inter-category sketch distance\n",
    "\n",
    "#     print('Intra-category image distance', value1.mean())\n",
    "#     print('Intra-category skeleton distance', value2.mean())\n",
    "#     print('Inter-category image distance', value3.mean())\n",
    "#     print('Inter-category skeleton distance', value4.mean())\n",
    "#     print('\\n\\n')\n",
    "    # plot distances\n",
    "    \n",
    "    fig, (ax1, ax2) = plt.subplots(2, figsize=(15,15))\n",
    "    ax1.hlines(y=y, xmin=value1, xmax=value3, color='grey', alpha=0.4)\n",
    "    ax1.scatter(value1, y, color='skyblue', alpha=0.8, label='intra-category image distance')\n",
    "    ax1.scatter(value3, y, color='darkslategrey', alpha=0.6 , label='Inter-category image distance')\n",
    "    ax2.hlines(y=y, xmin=value2, xmax=value4, color='grey', alpha=0.4)\n",
    "    ax2.scatter(value2, y, color='pink', alpha=1 , label='Intra-category skeleton distance')\n",
    "    ax2.scatter(value4, y, color='darkorange', alpha=0.6, label='Inter-category skeleton distance') \n",
    "    ax1.legend()\n",
    "    ax2.legend()\n",
    "    ax1.set_xlim(0, 1)\n",
    "    ax2.set_xlim(0, 1)\n",
    "    ax1.set_yticks([])\n",
    "    ax2.set_yticks([])\n",
    "    plt.xlabel('Distance')\n",
    "    plt.ylabel('Object number')\n",
    "    im_name = str(n) + '_imvsskel.png'\n",
    "    plt.savefig(im_name)\n",
    "    \n",
    "    # means\n",
    "#     mean_im = value3.mean() - value1.mean()\n",
    "#     mean_sk = value4.mean() - value2.mean()\n",
    "#     diff_intra = value1.mean() - value2.mean()\n",
    "#     diff_inter = value3.mean() - value4.mean()\n",
    "#     diff_im.append(mean_im)\n",
    "#     diff_sk.append(mean_sk)\n",
    "#     diff_3.append(diff_intra)\n",
    "#     diff_4.append(diff_inter)\n",
    "#     print('Inter-category im dist - intra-category im dist =', mean_im)\n",
    "#     print('Inter-category sketch dist - intra-category sketch dist =', mean_sk)\n",
    "\n"
   ]
  },
  {
   "cell_type": "code",
   "execution_count": 20,
   "metadata": {},
   "outputs": [
    {
     "name": "stdout",
     "output_type": "stream",
     "text": [
      "0.20804243596852076\n",
      "0.3543153249160017\n",
      "0.06687536410443434\n",
      "-0.07939752484304645\n"
     ]
    }
   ],
   "source": [
    "# print(sum(diff_im) / len(diff_im))\n",
    "# print(sum(diff_sk) / len(diff_sk))\n",
    "print(sum(diff_3) / len(diff_3))\n",
    "print(sum(diff_4) / len(diff_4))"
   ]
  }
 ],
 "metadata": {
  "kernelspec": {
   "display_name": "Python 3",
   "language": "python",
   "name": "python3"
  },
  "language_info": {
   "codemirror_mode": {
    "name": "ipython",
    "version": 3
   },
   "file_extension": ".py",
   "mimetype": "text/x-python",
   "name": "python",
   "nbconvert_exporter": "python",
   "pygments_lexer": "ipython3",
   "version": "3.7.4"
  }
 },
 "nbformat": 4,
 "nbformat_minor": 4
}
